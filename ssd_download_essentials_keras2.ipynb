{
 "cells": [
  {
   "cell_type": "code",
   "execution_count": 1,
   "metadata": {},
   "outputs": [
    {
     "name": "stdout",
     "output_type": "stream",
     "text": [
      "--2017-08-03 09:38:11--  https://github.com/cory8249/ssd_keras/archive/master.zip\n",
      "Resolving github.com (github.com)... 192.30.255.112, 192.30.255.113\n",
      "Connecting to github.com (github.com)|192.30.255.112|:443... connected.\n",
      "HTTP request sent, awaiting response... 302 Found\n",
      "Location: https://codeload.github.com/cory8249/ssd_keras/zip/master [following]\n",
      "--2017-08-03 09:38:11--  https://codeload.github.com/cory8249/ssd_keras/zip/master\n",
      "Resolving codeload.github.com (codeload.github.com)... 192.30.255.121, 192.30.255.120\n",
      "Connecting to codeload.github.com (codeload.github.com)|192.30.255.121|:443... connected.\n",
      "HTTP request sent, awaiting response... 200 OK\n",
      "Length: 2964978 (2.8M) [application/zip]\n",
      "Saving to: './ssd_keras.zip'\n",
      "\n",
      "./ssd_keras.zip     100%[===================>]   2.83M  --.-KB/s    in 0.06s   \n",
      "\n",
      "2017-08-03 09:38:11 (44.4 MB/s) - './ssd_keras.zip' saved [2964978/2964978]\n",
      "\n"
     ]
    }
   ],
   "source": [
    "!wget https://github.com/cory8249/ssd_keras/archive/master.zip -O ./ssd_keras.zip"
   ]
  },
  {
   "cell_type": "code",
   "execution_count": 2,
   "metadata": {},
   "outputs": [
    {
     "name": "stdout",
     "output_type": "stream",
     "text": [
      "Archive:  ssd_keras.zip\n",
      "4c8e8d69149c9fdee9d584d53ebc79ea145b1fbd\n",
      "   creating: ssd_keras-master/\n",
      "  inflating: ssd_keras-master/.gitignore  \n",
      "  inflating: ssd_keras-master/LICENSE  \n",
      "   creating: ssd_keras-master/PASCAL_VOC/\n",
      "  inflating: ssd_keras-master/PASCAL_VOC/get_data_from_XML.py  \n",
      "  inflating: ssd_keras-master/README.md  \n",
      "  inflating: ssd_keras-master/SSD.ipynb  \n",
      "  inflating: ssd_keras-master/SSD_training.ipynb  \n",
      "  inflating: ssd_keras-master/feature_flow.py  \n",
      "  inflating: ssd_keras-master/flow_util.py  \n",
      "  inflating: ssd_keras-master/gt_pascal.pkl  \n",
      "   creating: ssd_keras-master/pics/\n",
      "  inflating: ssd_keras-master/pics/boys.jpg  \n",
      "  inflating: ssd_keras-master/pics/car_cat.jpg  \n",
      "  inflating: ssd_keras-master/pics/car_cat2.jpg  \n",
      "  inflating: ssd_keras-master/pics/cat.jpg  \n",
      "  inflating: ssd_keras-master/pics/fish-bike.jpg  \n",
      "  inflating: ssd_keras-master/plot_util.py  \n",
      "  inflating: ssd_keras-master/prior_boxes_ssd300.pkl  \n",
      "  inflating: ssd_keras-master/run_ssd.py  \n",
      "  inflating: ssd_keras-master/ssd.py  \n",
      "  inflating: ssd_keras-master/ssd_conv4_3.py  \n",
      "  inflating: ssd_keras-master/ssd_layers.py  \n",
      "  inflating: ssd_keras-master/ssd_training.py  \n",
      "  inflating: ssd_keras-master/ssd_utils.py  \n",
      "  inflating: ssd_keras-master/ssd_v2.py  \n",
      "  inflating: ssd_keras-master/test_keras.py  \n",
      "  inflating: ssd_keras-master/test_ssd.py  \n",
      "   creating: ssd_keras-master/testing_utils/\n",
      "  inflating: ssd_keras-master/testing_utils/videotest.py  \n",
      "  inflating: ssd_keras-master/testing_utils/videotest_example.py  \n"
     ]
    }
   ],
   "source": [
    "!unzip ssd_keras.zip"
   ]
  },
  {
   "cell_type": "code",
   "execution_count": 7,
   "metadata": {
    "collapsed": true
   },
   "outputs": [],
   "source": [
    "!mv ./SSD_car_detection_keras2.ipynb ./ssd_keras/SSD_car_detection_keras2.ipynb"
   ]
  },
  {
   "cell_type": "code",
   "execution_count": 5,
   "metadata": {},
   "outputs": [
    {
     "name": "stdout",
     "output_type": "stream",
     "text": [
      "--2017-08-03 09:39:01--  https://www.dropbox.com/s/slvjdro40vyz02b/weights_SSD300.hdf5?dl=0\n",
      "Resolving www.dropbox.com (www.dropbox.com)... 162.125.1.1, 2620:100:6016:1::a27d:101\n",
      "Connecting to www.dropbox.com (www.dropbox.com)|162.125.1.1|:443... connected.\n",
      "HTTP request sent, awaiting response... 302 Found\n",
      "Location: https://dl.dropboxusercontent.com/content_link/kLX6bG27Y5tfIQ0bLi6JcpZbMvVqCEbEFYU3GMW0YwxIM2W20TTw4mHaVezvGLxA/file [following]\n",
      "--2017-08-03 09:39:02--  https://dl.dropboxusercontent.com/content_link/kLX6bG27Y5tfIQ0bLi6JcpZbMvVqCEbEFYU3GMW0YwxIM2W20TTw4mHaVezvGLxA/file\n",
      "Resolving dl.dropboxusercontent.com (dl.dropboxusercontent.com)... 162.125.1.6\n",
      "Connecting to dl.dropboxusercontent.com (dl.dropboxusercontent.com)|162.125.1.6|:443... connected.\n",
      "HTTP request sent, awaiting response... 200 OK\n",
      "Length: 103156760 (98M) [application/octet-stream]\n",
      "Saving to: './ssd_keras/weights_SSD300.hdf5'\n",
      "\n",
      "./ssd_keras/weights 100%[===================>]  98.38M  37.1MB/s    in 2.7s    \n",
      "\n",
      "2017-08-03 09:39:05 (37.1 MB/s) - './ssd_keras/weights_SSD300.hdf5' saved [103156760/103156760]\n",
      "\n"
     ]
    }
   ],
   "source": [
    "!wget https://www.dropbox.com/s/slvjdro40vyz02b/weights_SSD300.hdf5?dl=0 -O ./ssd_keras/weights_SSD300.hdf5"
   ]
  },
  {
   "cell_type": "code",
   "execution_count": 3,
   "metadata": {},
   "outputs": [
    {
     "name": "stdout",
     "output_type": "stream",
     "text": [
      "Collecting moviepy\n",
      "  Downloading moviepy-0.2.3.2-py2.py3-none-any.whl (122kB)\n",
      "\u001b[K    100% |████████████████████████████████| 133kB 4.1MB/s ta 0:00:01\n",
      "\u001b[?25hRequirement already satisfied: decorator==4.0.11 in /usr/local/lib/python3.5/site-packages (from moviepy)\n",
      "Collecting tqdm==4.11.2 (from moviepy)\n",
      "  Downloading tqdm-4.11.2-py2.py3-none-any.whl (46kB)\n",
      "\u001b[K    100% |████████████████████████████████| 51kB 5.4MB/s ta 0:00:011\n",
      "\u001b[?25hRequirement already satisfied: numpy in /usr/local/lib/python3.5/site-packages (from moviepy)\n",
      "Collecting imageio==2.1.2 (from moviepy)\n",
      "  Downloading imageio-2.1.2.zip (3.3MB)\n",
      "\u001b[K    100% |████████████████████████████████| 3.3MB 445kB/s eta 0:00:01\n",
      "\u001b[?25hRequirement already satisfied: pillow in /usr/local/lib/python3.5/site-packages (from imageio==2.1.2->moviepy)\n",
      "Requirement already satisfied: olefile in /usr/local/lib/python3.5/site-packages (from pillow->imageio==2.1.2->moviepy)\n",
      "Building wheels for collected packages: imageio\n",
      "  Running setup.py bdist_wheel for imageio ... \u001b[?25l-\b \bdone\n",
      "\u001b[?25h  Stored in directory: /root/.cache/pip/wheels/47/a7/c8/2d9d42949793f2ad22a9f7974be42b34f77b97d28aa206cf94\n",
      "Successfully built imageio\n",
      "Installing collected packages: tqdm, imageio, moviepy\n",
      "Successfully installed imageio-2.1.2 moviepy-0.2.3.2 tqdm-4.11.2\n"
     ]
    }
   ],
   "source": [
    "!pip install moviepy"
   ]
  },
  {
   "cell_type": "code",
   "execution_count": 6,
   "metadata": {},
   "outputs": [
    {
     "name": "stdout",
     "output_type": "stream",
     "text": [
      "--2017-05-07 07:49:46--  https://github.com/joshpierro/self-driving-car/raw/master/p5/project_video.mp4\n",
      "Resolving github.com (github.com)... 192.30.255.113, 192.30.255.112\n",
      "Connecting to github.com (github.com)|192.30.255.113|:443... connected.\n",
      "HTTP request sent, awaiting response... 302 Found\n",
      "Location: https://raw.githubusercontent.com/joshpierro/self-driving-car/master/p5/project_video.mp4 [following]\n",
      "--2017-05-07 07:49:46--  https://raw.githubusercontent.com/joshpierro/self-driving-car/master/p5/project_video.mp4\n",
      "Resolving raw.githubusercontent.com (raw.githubusercontent.com)... 151.101.52.133\n",
      "Connecting to raw.githubusercontent.com (raw.githubusercontent.com)|151.101.52.133|:443... connected.\n",
      "HTTP request sent, awaiting response... 200 OK\n",
      "Length: 25268015 (24M) [application/octet-stream]\n",
      "Saving to: ‘/output/ssd_keras-master/project_video.mp4’\n",
      "\n",
      "/output/ssd_keras-m 100%[===================>]  24.10M  46.0MB/s    in 0.5s    \n",
      "\n",
      "2017-05-07 07:49:49 (46.0 MB/s) - ‘/output/ssd_keras-master/project_video.mp4’ saved [25268015/25268015]\n",
      "\n"
     ]
    }
   ],
   "source": [
    "!wget https://github.com/joshpierro/self-driving-car/raw/master/p5/project_video.mp4 -O /output/ssd_keras-master/project_video.mp4"
   ]
  },
  {
   "cell_type": "code",
   "execution_count": null,
   "metadata": {
    "collapsed": true
   },
   "outputs": [],
   "source": []
  },
  {
   "cell_type": "code",
   "execution_count": null,
   "metadata": {
    "collapsed": true
   },
   "outputs": [],
   "source": []
  }
 ],
 "metadata": {
  "kernelspec": {
   "display_name": "Python 3",
   "language": "python",
   "name": "python3"
  },
  "language_info": {
   "codemirror_mode": {
    "name": "ipython",
    "version": 3
   },
   "file_extension": ".py",
   "mimetype": "text/x-python",
   "name": "python",
   "nbconvert_exporter": "python",
   "pygments_lexer": "ipython3",
   "version": "3.5.2"
  }
 },
 "nbformat": 4,
 "nbformat_minor": 2
}
